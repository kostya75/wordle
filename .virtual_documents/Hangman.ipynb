import random 
from collections import Counter 
  


HANGMAN_PICS = ['''
    +---+
        |
        |
        |
       ===''', '''
    +---+
    O   |
        |
        |
       ===''', '''
    +---+
    O   |
    |   |
        |
       ===''', '''
    +---+
    O   |
   /|   |
        |
       ===''', '''
    +---+
    O   |
   /|\  |
        |
       ===''', '''
    +---+
    O   |
   /|\  |
   /    |
       ===''', '''
    +---+
    O   |
   /|\  |
   / \  |
       ===''']

words = '''ant baboon badger bat bear beaver camel cat clam cobra cougar
       coyote crow deer dog donkey duck eagle ferret fox frog goat goose hawk
       lion lizard llama mole monkey moose mouse mule newt otter owl panda
       parrot pigeon python rabbit ram rat raven rhino salmon seal shark sheep
       skunk sloth snake spider stork swan tiger toad trout turkey turtle
       weasel whale wolf wombat zebra'''.split()


print(HANGMAN_PICS[1])


word=random.choice(words)


word


word_mask="-"*len(word)
print(word_mask)


guess_w='camel'
guess_l='a'


if guess_l in word:
    for letter_pos in range(len(word)):
        if [*word][letter_pos]==guess_l:
            mask_list=[*word_mask]
            mask_list[letter_pos]=guess_l
            word_mask="".join(mask_list)
print(word_mask)       






