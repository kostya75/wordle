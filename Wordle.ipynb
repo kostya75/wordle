{
 "cells": [
  {
   "cell_type": "code",
   "execution_count": 1,
   "id": "7cc01c70-4426-4a31-bd67-da9f1c52882f",
   "metadata": {},
   "outputs": [
    {
     "name": "stdout",
     "output_type": "stream",
     "text": [
      "wordle\n"
     ]
    }
   ],
   "source": [
    "#wordle\n",
    "print(\"wordle\")"
   ]
  },
  {
   "cell_type": "code",
   "execution_count": null,
   "id": "252f6e0a-6ff6-473d-aecc-801b8fc84cd9",
   "metadata": {},
   "outputs": [],
   "source": []
  }
 ],
 "metadata": {
  "kernelspec": {
   "display_name": "Python 3 (ipykernel)",
   "language": "python",
   "name": "python3"
  },
  "language_info": {
   "codemirror_mode": {
    "name": "ipython",
    "version": 3
   },
   "file_extension": ".py",
   "mimetype": "text/x-python",
   "name": "python",
   "nbconvert_exporter": "python",
   "pygments_lexer": "ipython3",
   "version": "3.11.3"
  }
 },
 "nbformat": 4,
 "nbformat_minor": 5
}
