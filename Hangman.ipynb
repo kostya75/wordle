{
 "cells": [
  {
   "cell_type": "code",
   "execution_count": null,
   "id": "0e82953a-d17a-48b5-9b04-39d9a2d053ee",
   "metadata": {},
   "outputs": [],
   "source": [
    "# test\n",
    "print(\"what's the next project\")"
   ]
  }
 ],
 "metadata": {
  "kernelspec": {
   "display_name": "Python 3 (ipykernel)",
   "language": "python",
   "name": "python3"
  },
  "language_info": {
   "codemirror_mode": {
    "name": "ipython",
    "version": 3
   },
   "file_extension": ".py",
   "mimetype": "text/x-python",
   "name": "python",
   "nbconvert_exporter": "python",
   "pygments_lexer": "ipython3",
   "version": "3.11.3"
  }
 },
 "nbformat": 4,
 "nbformat_minor": 5
}
