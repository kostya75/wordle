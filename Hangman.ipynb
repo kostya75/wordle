{
 "cells": [
  {
   "cell_type": "code",
   "execution_count": 11,
   "id": "0e82953a-d17a-48b5-9b04-39d9a2d053ee",
   "metadata": {},
   "outputs": [
    {
     "ename": "IndentationError",
     "evalue": "expected an indented block after 'while' statement on line 12 (447133978.py, line 13)",
     "output_type": "error",
     "traceback": [
      "\u001b[1;36m  Cell \u001b[1;32mIn[11], line 13\u001b[1;36m\u001b[0m\n\u001b[1;33m    except KeyboardInterrupt:\u001b[0m\n\u001b[1;37m    ^\u001b[0m\n\u001b[1;31mIndentationError\u001b[0m\u001b[1;31m:\u001b[0m expected an indented block after 'while' statement on line 12\n"
     ]
    }
   ],
   "source": [
    "import random \n",
    "from collections import Counter \n",
    "  \n",
    "someWords = '''apple banana mango strawberry  \n",
    "orange grape pineapple apricot lemon coconut watermelon \n",
    "cherry papaya berry peach lychee muskmelon'''\n",
    "  \n",
    "\n",
    "if __name__ == '__main__': \n",
    "\n",
    "    try: \n",
    "        while (chances != 0) and flag == 0:  # flag is updated when the word is correctly guessed \n",
    "    except KeyboardInterrupt: \n",
    "        print() \n",
    "        print('Bye! Try again.') \n",
    "        exit() "
   ]
  },
  {
   "cell_type": "code",
   "execution_count": null,
   "id": "f3f5c890-8ebd-45f7-97a4-52ecff89c971",
   "metadata": {},
   "outputs": [],
   "source": []
  }
 ],
 "metadata": {
  "kernelspec": {
   "display_name": "Python 3 (ipykernel)",
   "language": "python",
   "name": "python3"
  },
  "language_info": {
   "codemirror_mode": {
    "name": "ipython",
    "version": 3
   },
   "file_extension": ".py",
   "mimetype": "text/x-python",
   "name": "python",
   "nbconvert_exporter": "python",
   "pygments_lexer": "ipython3",
   "version": "3.11.3"
  }
 },
 "nbformat": 4,
 "nbformat_minor": 5
}
