{
 "cells": [
  {
   "cell_type": "code",
   "execution_count": 1,
   "id": "0e82953a-d17a-48b5-9b04-39d9a2d053ee",
   "metadata": {},
   "outputs": [],
   "source": [
    "import random \n",
    "from collections import Counter \n",
    "  "
   ]
  },
  {
   "cell_type": "code",
   "execution_count": 2,
   "id": "f3f5c890-8ebd-45f7-97a4-52ecff89c971",
   "metadata": {},
   "outputs": [],
   "source": [
    "HANGMAN_PICS = ['''\n",
    "    +---+\n",
    "        |\n",
    "        |\n",
    "        |\n",
    "       ===''', '''\n",
    "    +---+\n",
    "    O   |\n",
    "        |\n",
    "        |\n",
    "       ===''', '''\n",
    "    +---+\n",
    "    O   |\n",
    "    |   |\n",
    "        |\n",
    "       ===''', '''\n",
    "    +---+\n",
    "    O   |\n",
    "   /|   |\n",
    "        |\n",
    "       ===''', '''\n",
    "    +---+\n",
    "    O   |\n",
    "   /|\\  |\n",
    "        |\n",
    "       ===''', '''\n",
    "    +---+\n",
    "    O   |\n",
    "   /|\\  |\n",
    "   /    |\n",
    "       ===''', '''\n",
    "    +---+\n",
    "    O   |\n",
    "   /|\\  |\n",
    "   / \\  |\n",
    "       ===''']\n",
    "\n",
    "words = '''ant baboon badger bat bear beaver camel cat clam cobra cougar\n",
    "       coyote crow deer dog donkey duck eagle ferret fox frog goat goose hawk\n",
    "       lion lizard llama mole monkey moose mouse mule newt otter owl panda\n",
    "       parrot pigeon python rabbit ram rat raven rhino salmon seal shark sheep\n",
    "       skunk sloth snake spider stork swan tiger toad trout turkey turtle\n",
    "       weasel whale wolf wombat zebra'''.split()"
   ]
  },
  {
   "cell_type": "code",
   "execution_count": 6,
   "id": "ce923f0a-3f55-4dd1-9d10-390c75666df8",
   "metadata": {},
   "outputs": [
    {
     "name": "stdout",
     "output_type": "stream",
     "text": [
      "\n",
      "    +---+\n",
      "    O   |\n",
      "        |\n",
      "        |\n",
      "       ===\n"
     ]
    }
   ],
   "source": [
    "print(HANGMAN_PICS[1])"
   ]
  },
  {
   "cell_type": "code",
   "execution_count": 15,
   "id": "e1dfbfc5-8490-4f9c-9a8f-f5b0e28744e5",
   "metadata": {},
   "outputs": [],
   "source": [
    "word=random.choice(words)"
   ]
  },
  {
   "cell_type": "code",
   "execution_count": 16,
   "id": "26218b89-2b04-43e1-985d-60ac13af1a99",
   "metadata": {},
   "outputs": [
    {
     "data": {
      "text/plain": [
       "'llama'"
      ]
     },
     "execution_count": 16,
     "metadata": {},
     "output_type": "execute_result"
    }
   ],
   "source": [
    "word"
   ]
  },
  {
   "cell_type": "code",
   "execution_count": 14,
   "id": "878690b9-a2c8-4256-ae2f-0f7e5e68948f",
   "metadata": {},
   "outputs": [
    {
     "name": "stdout",
     "output_type": "stream",
     "text": [
      "------\n"
     ]
    }
   ],
   "source": [
    "word_mask=\"-\"*len(word)\n",
    "print(word_mask)"
   ]
  },
  {
   "cell_type": "code",
   "execution_count": 22,
   "id": "fd08a25e-d8d8-4e87-8bba-65c73018ef50",
   "metadata": {},
   "outputs": [],
   "source": [
    "guess_w='camel'\n",
    "guess_l='a'"
   ]
  },
  {
   "cell_type": "code",
   "execution_count": 26,
   "id": "46cafe77-c34b-4b8d-9397-c2d421e399a4",
   "metadata": {},
   "outputs": [
    {
     "name": "stdout",
     "output_type": "stream",
     "text": [
      "--a-a-\n"
     ]
    }
   ],
   "source": [
    "if guess_l in word:\n",
    "    for letter_pos in range(len(word)):\n",
    "        if [*word][letter_pos]==guess_l:\n",
    "            mask_list=[*word_mask]\n",
    "            mask_list[letter_pos]=guess_l\n",
    "            word_mask=\"\".join(mask_list)\n",
    "print(word_mask)       "
   ]
  },
  {
   "cell_type": "code",
   "execution_count": null,
   "id": "896308f7-a5ec-4c93-82aa-f497116491a8",
   "metadata": {},
   "outputs": [],
   "source": []
  },
  {
   "cell_type": "code",
   "execution_count": null,
   "id": "4c549a1e-d0a6-4209-ab4c-888241620bbe",
   "metadata": {},
   "outputs": [],
   "source": []
  }
 ],
 "metadata": {
  "kernelspec": {
   "display_name": "Python 3 (ipykernel)",
   "language": "python",
   "name": "python3"
  },
  "language_info": {
   "codemirror_mode": {
    "name": "ipython",
    "version": 3
   },
   "file_extension": ".py",
   "mimetype": "text/x-python",
   "name": "python",
   "nbconvert_exporter": "python",
   "pygments_lexer": "ipython3",
   "version": "3.11.5"
  }
 },
 "nbformat": 4,
 "nbformat_minor": 5
}
